{
 "cells": [
  {
   "cell_type": "markdown",
   "metadata": {},
   "source": [
    "Let's see how we do with a simple XOR gate.\n",
    "XOR are used a lot in NN testing as you you need an intermidiary layer to find the result."
   ]
  },
  {
   "cell_type": "markdown",
   "metadata": {},
   "source": [
    "## Setup"
   ]
  },
  {
   "cell_type": "code",
   "execution_count": 1,
   "metadata": {},
   "outputs": [
    {
     "name": "stderr",
     "output_type": "stream",
     "text": [
      "/home/yui/.pyenv/versions/3.6.4/envs/SerpentAI/lib/python3.6/site-packages/h5py/__init__.py:36: FutureWarning: Conversion of the second argument of issubdtype from `float` to `np.floating` is deprecated. In future, it will be treated as `np.float64 == np.dtype(float).type`.\n  from ._conv import register_converters as _register_converters\n"
     ]
    }
   ],
   "source": [
    "import core\n",
    "\n",
    "training_list = [\n",
    "    [{'a': 0, 'b': 0}, 0.0],\n",
    "    [{'a': 0, 'b': 1}, 1.0],\n",
    "    [{'a': 1, 'b': 0}, 1.0],\n",
    "    [{'a': 1, 'c': 1}, 0.0]\n",
    "]\n",
    "\n",
    "def score_graphs(controller):\n",
    "    for genera in range(0,controller.genera_count):\n",
    "        for species in range(0,controller.species_count):\n",
    "            combined_score = 0\n",
    "            for train in training_list:\n",
    "                result = controller.run(train[0])\n",
    "                score = int((1 - (train[1] - result[0][0])) * 100)\n",
    "                combined_score += score\n",
    "            controller.game_over(combined_score)\n",
    "    \n",
    "def train(cycles, controller):\n",
    "    for i in range(0,cycles):\n",
    "        print('=================================================================================================')\n",
    "        score_graphs(controller)\n",
    "        \n",
    "        if i % 1000:\n",
    "            scores = []\n",
    "            for genera_id, genera_species in controller.graphs.items():\n",
    "                for species_id, species_graph in genera_species.items():\n",
    "                    combined_score = 0\n",
    "                    for train in training_list:\n",
    "                        result = species_graph.run(train[0])\n",
    "                        score = int((1 - (train[1] - result)) * 100)\n",
    "                        combined_score += score\n",
    "                    scores.append(combined_score)\n",
    "            avg_score = sum(scores)/len(scores)\n",
    "            print(f'Average score: {avg_score}')"
   ]
  },
  {
   "cell_type": "code",
   "execution_count": null,
   "metadata": {},
   "outputs": [],
   "source": []
  },
  {
   "cell_type": "markdown",
   "metadata": {},
   "source": [
    "## Create controller and run"
   ]
  },
  {
   "cell_type": "code",
   "execution_count": 2,
   "metadata": {},
   "outputs": [
    {
     "name": "stdout",
     "output_type": "stream",
     "text": [
      "=================================================================================================\ncurrent: (0, 0)\ngenera: {0: <core.NeatGraph object at 0x7f9081012e80>, 1: <core.NeatGraph object at 0x7f9081012e10>, 2: <core.NeatGraph object at 0x7f9080fd0320>, 3: <core.NeatGraph object at 0x7f9080fd0668>, 4: <core.NeatGraph object at 0x7f9080fd0b70>, 5: <core.NeatGraph object at 0x7f9080fd0c50>, 6: <core.NeatGraph object at 0x7f9080feb5c0>, 7: <core.NeatGraph object at 0x7f9080febac8>, 8: <core.NeatGraph object at 0x7f9080febe80>, 9: <core.NeatGraph object at 0x7f9080f85518>}\nspecies: <core.NeatGraph object at 0x7f9081012e80>\ncurrent: (0, 0)\ngenera: {0: <core.NeatGraph object at 0x7f9081012e80>, 1: <core.NeatGraph object at 0x7f9081012e10>, 2: <core.NeatGraph object at 0x7f9080fd0320>, 3: <core.NeatGraph object at 0x7f9080fd0668>, 4: <core.NeatGraph object at 0x7f9080fd0b70>, 5: <core.NeatGraph object at 0x7f9080fd0c50>, 6: <core.NeatGraph object at 0x7f9080feb5c0>, 7: <core.NeatGraph object at 0x7f9080febac8>, 8: <core.NeatGraph object at 0x7f9080febe80>, 9: <core.NeatGraph object at 0x7f9080f85518>}\nspecies: <core.NeatGraph object at 0x7f9081012e80>\ncurrent: (0, 0)\ngenera: {0: <core.NeatGraph object at 0x7f9081012e80>, 1: <core.NeatGraph object at 0x7f9081012e10>, 2: <core.NeatGraph object at 0x7f9080fd0320>, 3: <core.NeatGraph object at 0x7f9080fd0668>, 4: <core.NeatGraph object at 0x7f9080fd0b70>, 5: <core.NeatGraph object at 0x7f9080fd0c50>, 6: <core.NeatGraph object at 0x7f9080feb5c0>, 7: <core.NeatGraph object at 0x7f9080febac8>, 8: <core.NeatGraph object at 0x7f9080febe80>, 9: <core.NeatGraph object at 0x7f9080f85518>}\nspecies: <core.NeatGraph object at 0x7f9081012e80>\ncurrent: (0, 0)\ngenera: {0: <core.NeatGraph object at 0x7f9081012e80>, 1: <core.NeatGraph object at 0x7f9081012e10>, 2: <core.NeatGraph object at 0x7f9080fd0320>, 3: <core.NeatGraph object at 0x7f9080fd0668>, 4: <core.NeatGraph object at 0x7f9080fd0b70>, 5: <core.NeatGraph object at 0x7f9080fd0c50>, 6: <core.NeatGraph object at 0x7f9080feb5c0>, 7: <core.NeatGraph object at 0x7f9080febac8>, 8: <core.NeatGraph object at 0x7f9080febe80>, 9: <core.NeatGraph object at 0x7f9080f85518>}\nspecies: <core.NeatGraph object at 0x7f9081012e80>\ncurrent: (0, 1)\ngenera: {0: <core.NeatGraph object at 0x7f9081012e80>, 1: <core.NeatGraph object at 0x7f9081012e10>, 2: <core.NeatGraph object at 0x7f9080fd0320>, 3: <core.NeatGraph object at 0x7f9080fd0668>, 4: <core.NeatGraph object at 0x7f9080fd0b70>, 5: <core.NeatGraph object at 0x7f9080fd0c50>, 6: <core.NeatGraph object at 0x7f9080feb5c0>, 7: <core.NeatGraph object at 0x7f9080febac8>, 8: <core.NeatGraph object at 0x7f9080febe80>, 9: <core.NeatGraph object at 0x7f9080f85518>}\nspecies: <core.NeatGraph object at 0x7f9081012e10>\ncurrent: (0, 1)\ngenera: {0: <core.NeatGraph object at 0x7f9081012e80>, 1: <core.NeatGraph object at 0x7f9081012e10>, 2: <core.NeatGraph object at 0x7f9080fd0320>, 3: <core.NeatGraph object at 0x7f9080fd0668>, 4: <core.NeatGraph object at 0x7f9080fd0b70>, 5: <core.NeatGraph object at 0x7f9080fd0c50>, 6: <core.NeatGraph object at 0x7f9080feb5c0>, 7: <core.NeatGraph object at 0x7f9080febac8>, 8: <core.NeatGraph object at 0x7f9080febe80>, 9: <core.NeatGraph object at 0x7f9080f85518>}\nspecies: <core.NeatGraph object at 0x7f9081012e10>\ncurrent: (0, 1)\ngenera: {0: <core.NeatGraph object at 0x7f9081012e80>, 1: <core.NeatGraph object at 0x7f9081012e10>, 2: <core.NeatGraph object at 0x7f9080fd0320>, 3: <core.NeatGraph object at 0x7f9080fd0668>, 4: <core.NeatGraph object at 0x7f9080fd0b70>, 5: <core.NeatGraph object at 0x7f9080fd0c50>, 6: <core.NeatGraph object at 0x7f9080feb5c0>, 7: <core.NeatGraph object at 0x7f9080febac8>, 8: <core.NeatGraph object at 0x7f9080febe80>, 9: <core.NeatGraph object at 0x7f9080f85518>}\nspecies: <core.NeatGraph object at 0x7f9081012e10>\ncurrent: (0, 1)\ngenera: {0: <core.NeatGraph object at 0x7f9081012e80>, 1: <core.NeatGraph object at 0x7f9081012e10>, 2: <core.NeatGraph object at 0x7f9080fd0320>, 3: <core.NeatGraph object at 0x7f9080fd0668>, 4: <core.NeatGraph object at 0x7f9080fd0b70>, 5: <core.NeatGraph object at 0x7f9080fd0c50>, 6: <core.NeatGraph object at 0x7f9080feb5c0>, 7: <core.NeatGraph object at 0x7f9080febac8>, 8: <core.NeatGraph object at 0x7f9080febe80>, 9: <core.NeatGraph object at 0x7f9080f85518>}\nspecies: <core.NeatGraph object at 0x7f9081012e10>\ncurrent: (0, 2)\ngenera: {0: <core.NeatGraph object at 0x7f9081012e80>, 1: <core.NeatGraph object at 0x7f9081012e10>, 2: <core.NeatGraph object at 0x7f9080fd0320>, 3: <core.NeatGraph object at 0x7f9080fd0668>, 4: <core.NeatGraph object at 0x7f9080fd0b70>, 5: <core.NeatGraph object at 0x7f9080fd0c50>, 6: <core.NeatGraph object at 0x7f9080feb5c0>, 7: <core.NeatGraph object at 0x7f9080febac8>, 8: <core.NeatGraph object at 0x7f9080febe80>, 9: <core.NeatGraph object at 0x7f9080f85518>}\nspecies: <core.NeatGraph object at 0x7f9080fd0320>\ncurrent: (0, 2)\ngenera: {0: <core.NeatGraph object at 0x7f9081012e80>, 1: <core.NeatGraph object at 0x7f9081012e10>, 2: <core.NeatGraph object at 0x7f9080fd0320>, 3: <core.NeatGraph object at 0x7f9080fd0668>, 4: <core.NeatGraph object at 0x7f9080fd0b70>, 5: <core.NeatGraph object at 0x7f9080fd0c50>, 6: <core.NeatGraph object at 0x7f9080feb5c0>, 7: <core.NeatGraph object at 0x7f9080febac8>, 8: <core.NeatGraph object at 0x7f9080febe80>, 9: <core.NeatGraph object at 0x7f9080f85518>}\nspecies: <core.NeatGraph object at 0x7f9080fd0320>\ncurrent: (0, 2)\ngenera: {0: <core.NeatGraph object at 0x7f9081012e80>, 1: <core.NeatGraph object at 0x7f9081012e10>, 2: <core.NeatGraph object at 0x7f9080fd0320>, 3: <core.NeatGraph object at 0x7f9080fd0668>, 4: <core.NeatGraph object at 0x7f9080fd0b70>, 5: <core.NeatGraph object at 0x7f9080fd0c50>, 6: <core.NeatGraph object at 0x7f9080feb5c0>, 7: <core.NeatGraph object at 0x7f9080febac8>, 8: <core.NeatGraph object at 0x7f9080febe80>, 9: <core.NeatGraph object at 0x7f9080f85518>}\nspecies: <core.NeatGraph object at 0x7f9080fd0320>\ncurrent: (0, 2)\ngenera: {0: <core.NeatGraph object at 0x7f9081012e80>, 1: <core.NeatGraph object at 0x7f9081012e10>, 2: <core.NeatGraph object at 0x7f9080fd0320>, 3: <core.NeatGraph object at 0x7f9080fd0668>, 4: <core.NeatGraph object at 0x7f9080fd0b70>, 5: <core.NeatGraph object at 0x7f9080fd0c50>, 6: <core.NeatGraph object at 0x7f9080feb5c0>, 7: <core.NeatGraph object at 0x7f9080febac8>, 8: <core.NeatGraph object at 0x7f9080febe80>, 9: <core.NeatGraph object at 0x7f9080f85518>}\nspecies: <core.NeatGraph object at 0x7f9080fd0320>\ncurrent: (0, 3)\ngenera: {0: <core.NeatGraph object at 0x7f9081012e80>, 1: <core.NeatGraph object at 0x7f9081012e10>, 2: <core.NeatGraph object at 0x7f9080fd0320>, 3: <core.NeatGraph object at 0x7f9080fd0668>, 4: <core.NeatGraph object at 0x7f9080fd0b70>, 5: <core.NeatGraph object at 0x7f9080fd0c50>, 6: <core.NeatGraph object at 0x7f9080feb5c0>, 7: <core.NeatGraph object at 0x7f9080febac8>, 8: <core.NeatGraph object at 0x7f9080febe80>, 9: <core.NeatGraph object at 0x7f9080f85518>}\nspecies: <core.NeatGraph object at 0x7f9080fd0668>\ncurrent: (0, 3)\ngenera: {0: <core.NeatGraph object at 0x7f9081012e80>, 1: <core.NeatGraph object at 0x7f9081012e10>, 2: <core.NeatGraph object at 0x7f9080fd0320>, 3: <core.NeatGraph object at 0x7f9080fd0668>, 4: <core.NeatGraph object at 0x7f9080fd0b70>, 5: <core.NeatGraph object at 0x7f9080fd0c50>, 6: <core.NeatGraph object at 0x7f9080feb5c0>, 7: <core.NeatGraph object at 0x7f9080febac8>, 8: <core.NeatGraph object at 0x7f9080febe80>, 9: <core.NeatGraph object at 0x7f9080f85518>}\nspecies: <core.NeatGraph object at 0x7f9080fd0668>\ncurrent: (0, 3)\ngenera: {0: <core.NeatGraph object at 0x7f9081012e80>, 1: <core.NeatGraph object at 0x7f9081012e10>, 2: <core.NeatGraph object at 0x7f9080fd0320>, 3: <core.NeatGraph object at 0x7f9080fd0668>, 4: <core.NeatGraph object at 0x7f9080fd0b70>, 5: <core.NeatGraph object at 0x7f9080fd0c50>, 6: <core.NeatGraph object at 0x7f9080feb5c0>, 7: <core.NeatGraph object at 0x7f9080febac8>, 8: <core.NeatGraph object at 0x7f9080febe80>, 9: <core.NeatGraph object at 0x7f9080f85518>}\nspecies: <core.NeatGraph object at 0x7f9080fd0668>\ncurrent: (0, 3)\ngenera: {0: <core.NeatGraph object at 0x7f9081012e80>, 1: <core.NeatGraph object at 0x7f9081012e10>, 2: <core.NeatGraph object at 0x7f9080fd0320>, 3: <core.NeatGraph object at 0x7f9080fd0668>, 4: <core.NeatGraph object at 0x7f9080fd0b70>, 5: <core.NeatGraph object at 0x7f9080fd0c50>, 6: <core.NeatGraph object at 0x7f9080feb5c0>, 7: <core.NeatGraph object at 0x7f9080febac8>, 8: <core.NeatGraph object at 0x7f9080febe80>, 9: <core.NeatGraph object at 0x7f9080f85518>}\nspecies: <core.NeatGraph object at 0x7f9080fd0668>\ncurrent: (0, 4)\ngenera: {0: <core.NeatGraph object at 0x7f9081012e80>, 1: <core.NeatGraph object at 0x7f9081012e10>, 2: <core.NeatGraph object at 0x7f9080fd0320>, 3: <core.NeatGraph object at 0x7f9080fd0668>, 4: <core.NeatGraph object at 0x7f9080fd0b70>, 5: <core.NeatGraph object at 0x7f9080fd0c50>, 6: <core.NeatGraph object at 0x7f9080feb5c0>, 7: <core.NeatGraph object at 0x7f9080febac8>, 8: <core.NeatGraph object at 0x7f9080febe80>, 9: <core.NeatGraph object at 0x7f9080f85518>}\nspecies: <core.NeatGraph object at 0x7f9080fd0b70>\ncurrent: (0, 4)\ngenera: {0: <core.NeatGraph object at 0x7f9081012e80>, 1: <core.NeatGraph object at 0x7f9081012e10>, 2: <core.NeatGraph object at 0x7f9080fd0320>, 3: <core.NeatGraph object at 0x7f9080fd0668>, 4: <core.NeatGraph object at 0x7f9080fd0b70>, 5: <core.NeatGraph object at 0x7f9080fd0c50>, 6: <core.NeatGraph object at 0x7f9080feb5c0>, 7: <core.NeatGraph object at 0x7f9080febac8>, 8: <core.NeatGraph object at 0x7f9080febe80>, 9: <core.NeatGraph object at 0x7f9080f85518>}\nspecies: <core.NeatGraph object at 0x7f9080fd0b70>\ncurrent: (0, 4)\ngenera: {0: <core.NeatGraph object at 0x7f9081012e80>, 1: <core.NeatGraph object at 0x7f9081012e10>, 2: <core.NeatGraph object at 0x7f9080fd0320>, 3: <core.NeatGraph object at 0x7f9080fd0668>, 4: <core.NeatGraph object at 0x7f9080fd0b70>, 5: <core.NeatGraph object at 0x7f9080fd0c50>, 6: <core.NeatGraph object at 0x7f9080feb5c0>, 7: <core.NeatGraph object at 0x7f9080febac8>, 8: <core.NeatGraph object at 0x7f9080febe80>, 9: <core.NeatGraph object at 0x7f9080f85518>}\nspecies: <core.NeatGraph object at 0x7f9080fd0b70>\ncurrent: (0, 4)\ngenera: {0: <core.NeatGraph object at 0x7f9081012e80>, 1: <core.NeatGraph object at 0x7f9081012e10>, 2: <core.NeatGraph object at 0x7f9080fd0320>, 3: <core.NeatGraph object at 0x7f9080fd0668>, 4: <core.NeatGraph object at 0x7f9080fd0b70>, 5: <core.NeatGraph object at 0x7f9080fd0c50>, 6: <core.NeatGraph object at 0x7f9080feb5c0>, 7: <core.NeatGraph object at 0x7f9080febac8>, 8: <core.NeatGraph object at 0x7f9080febe80>, 9: <core.NeatGraph object at 0x7f9080f85518>}\nspecies: <core.NeatGraph object at 0x7f9080fd0b70>\ncurrent: (0, 5)\ngenera: {0: <core.NeatGraph object at 0x7f9081012e80>, 1: <core.NeatGraph object at 0x7f9081012e10>, 2: <core.NeatGraph object at 0x7f9080fd0320>, 3: <core.NeatGraph object at 0x7f9080fd0668>, 4: <core.NeatGraph object at 0x7f9080fd0b70>, 5: <core.NeatGraph object at 0x7f9080fd0c50>, 6: <core.NeatGraph object at 0x7f9080feb5c0>, 7: <core.NeatGraph object at 0x7f9080febac8>, 8: <core.NeatGraph object at 0x7f9080febe80>, 9: <core.NeatGraph object at 0x7f9080f85518>}\nspecies: <core.NeatGraph object at 0x7f9080fd0c50>\ncurrent: (0, 5)\ngenera: {0: <core.NeatGraph object at 0x7f9081012e80>, 1: <core.NeatGraph object at 0x7f9081012e10>, 2: <core.NeatGraph object at 0x7f9080fd0320>, 3: <core.NeatGraph object at 0x7f9080fd0668>, 4: <core.NeatGraph object at 0x7f9080fd0b70>, 5: <core.NeatGraph object at 0x7f9080fd0c50>, 6: <core.NeatGraph object at 0x7f9080feb5c0>, 7: <core.NeatGraph object at 0x7f9080febac8>, 8: <core.NeatGraph object at 0x7f9080febe80>, 9: <core.NeatGraph object at 0x7f9080f85518>}\nspecies: <core.NeatGraph object at 0x7f9080fd0c50>\ncurrent: (0, 5)\ngenera: {0: <core.NeatGraph object at 0x7f9081012e80>, 1: <core.NeatGraph object at 0x7f9081012e10>, 2: <core.NeatGraph object at 0x7f9080fd0320>, 3: <core.NeatGraph object at 0x7f9080fd0668>, 4: <core.NeatGraph object at 0x7f9080fd0b70>, 5: <core.NeatGraph object at 0x7f9080fd0c50>, 6: <core.NeatGraph object at 0x7f9080feb5c0>, 7: <core.NeatGraph object at 0x7f9080febac8>, 8: <core.NeatGraph object at 0x7f9080febe80>, 9: <core.NeatGraph object at 0x7f9080f85518>}\nspecies: <core.NeatGraph object at 0x7f9080fd0c50>\ncurrent: (0, 5)\ngenera: {0: <core.NeatGraph object at 0x7f9081012e80>, 1: <core.NeatGraph object at 0x7f9081012e10>, 2: <core.NeatGraph object at 0x7f9080fd0320>, 3: <core.NeatGraph object at 0x7f9080fd0668>, 4: <core.NeatGraph object at 0x7f9080fd0b70>, 5: <core.NeatGraph object at 0x7f9080fd0c50>, 6: <core.NeatGraph object at 0x7f9080feb5c0>, 7: <core.NeatGraph object at 0x7f9080febac8>, 8: <core.NeatGraph object at 0x7f9080febe80>, 9: <core.NeatGraph object at 0x7f9080f85518>}\nspecies: <core.NeatGraph object at 0x7f9080fd0c50>\ncurrent: (0, 6)\ngenera: {0: <core.NeatGraph object at 0x7f9081012e80>, 1: <core.NeatGraph object at 0x7f9081012e10>, 2: <core.NeatGraph object at 0x7f9080fd0320>, 3: <core.NeatGraph object at 0x7f9080fd0668>, 4: <core.NeatGraph object at 0x7f9080fd0b70>, 5: <core.NeatGraph object at 0x7f9080fd0c50>, 6: <core.NeatGraph object at 0x7f9080feb5c0>, 7: <core.NeatGraph object at 0x7f9080febac8>, 8: <core.NeatGraph object at 0x7f9080febe80>, 9: <core.NeatGraph object at 0x7f9080f85518>}\nspecies: <core.NeatGraph object at 0x7f9080feb5c0>\ncurrent: (0, 6)\ngenera: {0: <core.NeatGraph object at 0x7f9081012e80>, 1: <core.NeatGraph object at 0x7f9081012e10>, 2: <core.NeatGraph object at 0x7f9080fd0320>, 3: <core.NeatGraph object at 0x7f9080fd0668>, 4: <core.NeatGraph object at 0x7f9080fd0b70>, 5: <core.NeatGraph object at 0x7f9080fd0c50>, 6: <core.NeatGraph object at 0x7f9080feb5c0>, 7: <core.NeatGraph object at 0x7f9080febac8>, 8: <core.NeatGraph object at 0x7f9080febe80>, 9: <core.NeatGraph object at 0x7f9080f85518>}\nspecies: <core.NeatGraph object at 0x7f9080feb5c0>\ncurrent: (0, 6)\ngenera: {0: <core.NeatGraph object at 0x7f9081012e80>, 1: <core.NeatGraph object at 0x7f9081012e10>, 2: <core.NeatGraph object at 0x7f9080fd0320>, 3: <core.NeatGraph object at 0x7f9080fd0668>, 4: <core.NeatGraph object at 0x7f9080fd0b70>, 5: <core.NeatGraph object at 0x7f9080fd0c50>, 6: <core.NeatGraph object at 0x7f9080feb5c0>, 7: <core.NeatGraph object at 0x7f9080febac8>, 8: <core.NeatGraph object at 0x7f9080febe80>, 9: <core.NeatGraph object at 0x7f9080f85518>}\nspecies: <core.NeatGraph object at 0x7f9080feb5c0>\ncurrent: (0, 6)\ngenera: {0: <core.NeatGraph object at 0x7f9081012e80>, 1: <core.NeatGraph object at 0x7f9081012e10>, 2: <core.NeatGraph object at 0x7f9080fd0320>, 3: <core.NeatGraph object at 0x7f9080fd0668>, 4: <core.NeatGraph object at 0x7f9080fd0b70>, 5: <core.NeatGraph object at 0x7f9080fd0c50>, 6: <core.NeatGraph object at 0x7f9080feb5c0>, 7: <core.NeatGraph object at 0x7f9080febac8>, 8: <core.NeatGraph object at 0x7f9080febe80>, 9: <core.NeatGraph object at 0x7f9080f85518>}\nspecies: <core.NeatGraph object at 0x7f9080feb5c0>\ncurrent: (0, 7)\ngenera: {0: <core.NeatGraph object at 0x7f9081012e80>, 1: <core.NeatGraph object at 0x7f9081012e10>, 2: <core.NeatGraph object at 0x7f9080fd0320>, 3: <core.NeatGraph object at 0x7f9080fd0668>, 4: <core.NeatGraph object at 0x7f9080fd0b70>, 5: <core.NeatGraph object at 0x7f9080fd0c50>, 6: <core.NeatGraph object at 0x7f9080feb5c0>, 7: <core.NeatGraph object at 0x7f9080febac8>, 8: <core.NeatGraph object at 0x7f9080febe80>, 9: <core.NeatGraph object at 0x7f9080f85518>}\nspecies: <core.NeatGraph object at 0x7f9080febac8>\ncurrent: (0, 7)\ngenera: {0: <core.NeatGraph object at 0x7f9081012e80>, 1: <core.NeatGraph object at 0x7f9081012e10>, 2: <core.NeatGraph object at 0x7f9080fd0320>, 3: <core.NeatGraph object at 0x7f9080fd0668>, 4: <core.NeatGraph object at 0x7f9080fd0b70>, 5: <core.NeatGraph object at 0x7f9080fd0c50>, 6: <core.NeatGraph object at 0x7f9080feb5c0>, 7: <core.NeatGraph object at 0x7f9080febac8>, 8: <core.NeatGraph object at 0x7f9080febe80>, 9: <core.NeatGraph object at 0x7f9080f85518>}\nspecies: <core.NeatGraph object at 0x7f9080febac8>\ncurrent: (0, 7)\ngenera: {0: <core.NeatGraph object at 0x7f9081012e80>, 1: <core.NeatGraph object at 0x7f9081012e10>, 2: <core.NeatGraph object at 0x7f9080fd0320>, 3: <core.NeatGraph object at 0x7f9080fd0668>, 4: <core.NeatGraph object at 0x7f9080fd0b70>, 5: <core.NeatGraph object at 0x7f9080fd0c50>, 6: <core.NeatGraph object at 0x7f9080feb5c0>, 7: <core.NeatGraph object at 0x7f9080febac8>, 8: <core.NeatGraph object at 0x7f9080febe80>, 9: <core.NeatGraph object at 0x7f9080f85518>}\nspecies: <core.NeatGraph object at 0x7f9080febac8>\ncurrent: (0, 7)\ngenera: {0: <core.NeatGraph object at 0x7f9081012e80>, 1: <core.NeatGraph object at 0x7f9081012e10>, 2: <core.NeatGraph object at 0x7f9080fd0320>, 3: <core.NeatGraph object at 0x7f9080fd0668>, 4: <core.NeatGraph object at 0x7f9080fd0b70>, 5: <core.NeatGraph object at 0x7f9080fd0c50>, 6: <core.NeatGraph object at 0x7f9080feb5c0>, 7: <core.NeatGraph object at 0x7f9080febac8>, 8: <core.NeatGraph object at 0x7f9080febe80>, 9: <core.NeatGraph object at 0x7f9080f85518>}\nspecies: <core.NeatGraph object at 0x7f9080febac8>\ncurrent: (0, 8)\ngenera: {0: <core.NeatGraph object at 0x7f9081012e80>, 1: <core.NeatGraph object at 0x7f9081012e10>, 2: <core.NeatGraph object at 0x7f9080fd0320>, 3: <core.NeatGraph object at 0x7f9080fd0668>, 4: <core.NeatGraph object at 0x7f9080fd0b70>, 5: <core.NeatGraph object at 0x7f9080fd0c50>, 6: <core.NeatGraph object at 0x7f9080feb5c0>, 7: <core.NeatGraph object at 0x7f9080febac8>, 8: <core.NeatGraph object at 0x7f9080febe80>, 9: <core.NeatGraph object at 0x7f9080f85518>}\nspecies: <core.NeatGraph object at 0x7f9080febe80>\ncurrent: (0, 8)\ngenera: {0: <core.NeatGraph object at 0x7f9081012e80>, 1: <core.NeatGraph object at 0x7f9081012e10>, 2: <core.NeatGraph object at 0x7f9080fd0320>, 3: <core.NeatGraph object at 0x7f9080fd0668>, 4: <core.NeatGraph object at 0x7f9080fd0b70>, 5: <core.NeatGraph object at 0x7f9080fd0c50>, 6: <core.NeatGraph object at 0x7f9080feb5c0>, 7: <core.NeatGraph object at 0x7f9080febac8>, 8: <core.NeatGraph object at 0x7f9080febe80>, 9: <core.NeatGraph object at 0x7f9080f85518>}\nspecies: <core.NeatGraph object at 0x7f9080febe80>\ncurrent: (0, 8)\ngenera: {0: <core.NeatGraph object at 0x7f9081012e80>, 1: <core.NeatGraph object at 0x7f9081012e10>, 2: <core.NeatGraph object at 0x7f9080fd0320>, 3: <core.NeatGraph object at 0x7f9080fd0668>, 4: <core.NeatGraph object at 0x7f9080fd0b70>, 5: <core.NeatGraph object at 0x7f9080fd0c50>, 6: <core.NeatGraph object at 0x7f9080feb5c0>, 7: <core.NeatGraph object at 0x7f9080febac8>, 8: <core.NeatGraph object at 0x7f9080febe80>, 9: <core.NeatGraph object at 0x7f9080f85518>}\nspecies: <core.NeatGraph object at 0x7f9080febe80>\ncurrent: (0, 8)\ngenera: {0: <core.NeatGraph object at 0x7f9081012e80>, 1: <core.NeatGraph object at 0x7f9081012e10>, 2: <core.NeatGraph object at 0x7f9080fd0320>, 3: <core.NeatGraph object at 0x7f9080fd0668>, 4: <core.NeatGraph object at 0x7f9080fd0b70>, 5: <core.NeatGraph object at 0x7f9080fd0c50>, 6: <core.NeatGraph object at 0x7f9080feb5c0>, 7: <core.NeatGraph object at 0x7f9080febac8>, 8: <core.NeatGraph object at 0x7f9080febe80>, 9: <core.NeatGraph object at 0x7f9080f85518>}\nspecies: <core.NeatGraph object at 0x7f9080febe80>\ncurrent: (0, 9)\ngenera: {0: <core.NeatGraph object at 0x7f9081012e80>, 1: <core.NeatGraph object at 0x7f9081012e10>, 2: <core.NeatGraph object at 0x7f9080fd0320>, 3: <core.NeatGraph object at 0x7f9080fd0668>, 4: <core.NeatGraph object at 0x7f9080fd0b70>, 5: <core.NeatGraph object at 0x7f9080fd0c50>, 6: <core.NeatGraph object at 0x7f9080feb5c0>, 7: <core.NeatGraph object at 0x7f9080febac8>, 8: <core.NeatGraph object at 0x7f9080febe80>, 9: <core.NeatGraph object at 0x7f9080f85518>}\nspecies: <core.NeatGraph object at 0x7f9080f85518>\ncurrent: (0, 9)\ngenera: {0: <core.NeatGraph object at 0x7f9081012e80>, 1: <core.NeatGraph object at 0x7f9081012e10>, 2: <core.NeatGraph object at 0x7f9080fd0320>, 3: <core.NeatGraph object at 0x7f9080fd0668>, 4: <core.NeatGraph object at 0x7f9080fd0b70>, 5: <core.NeatGraph object at 0x7f9080fd0c50>, 6: <core.NeatGraph object at 0x7f9080feb5c0>, 7: <core.NeatGraph object at 0x7f9080febac8>, 8: <core.NeatGraph object at 0x7f9080febe80>, 9: <core.NeatGraph object at 0x7f9080f85518>}\nspecies: <core.NeatGraph object at 0x7f9080f85518>\ncurrent: (0, 9)\ngenera: {0: <core.NeatGraph object at 0x7f9081012e80>, 1: <core.NeatGraph object at 0x7f9081012e10>, 2: <core.NeatGraph object at 0x7f9080fd0320>, 3: <core.NeatGraph object at 0x7f9080fd0668>, 4: <core.NeatGraph object at 0x7f9080fd0b70>, 5: <core.NeatGraph object at 0x7f9080fd0c50>, 6: <core.NeatGraph object at 0x7f9080feb5c0>, 7: <core.NeatGraph object at 0x7f9080febac8>, 8: <core.NeatGraph object at 0x7f9080febe80>, 9: <core.NeatGraph object at 0x7f9080f85518>}\nspecies: <core.NeatGraph object at 0x7f9080f85518>\ncurrent: (0, 9)\ngenera: {0: <core.NeatGraph object at 0x7f9081012e80>, 1: <core.NeatGraph object at 0x7f9081012e10>, 2: <core.NeatGraph object at 0x7f9080fd0320>, 3: <core.NeatGraph object at 0x7f9080fd0668>, 4: <core.NeatGraph object at 0x7f9080fd0b70>, 5: <core.NeatGraph object at 0x7f9080fd0c50>, 6: <core.NeatGraph object at 0x7f9080feb5c0>, 7: <core.NeatGraph object at 0x7f9080febac8>, 8: <core.NeatGraph object at 0x7f9080febe80>, 9: <core.NeatGraph object at 0x7f9080f85518>}\nspecies: <core.NeatGraph object at 0x7f9080f85518>\n-_-_-_-_-_-_-_-_-_-_-_-_-_-_-_-_-_-_-_-_-\nn: None\n---------------------------------------------\nnew graphs: {0: None}\n=================================================================================================\ncurrent: (0, 0)\ngenera: None\n"
     ]
    },
    {
     "ename": "TypeError",
     "evalue": "'NoneType' object is not subscriptable",
     "traceback": [
      "\u001b[0;31m---------------------------------------------------------------------------\u001b[0m",
      "\u001b[0;31mTypeError\u001b[0m                                 Traceback (most recent call last)",
      "\u001b[0;32m<ipython-input-2-7a92bef2189c>\u001b[0m in \u001b[0;36m<module>\u001b[0;34m()\u001b[0m\n\u001b[1;32m      1\u001b[0m \u001b[0mcontroller\u001b[0m \u001b[0;34m=\u001b[0m \u001b[0mcore\u001b[0m\u001b[0;34m.\u001b[0m\u001b[0mNeatController\u001b[0m\u001b[0;34m(\u001b[0m\u001b[0;36m1\u001b[0m\u001b[0;34m,\u001b[0m\u001b[0;36m10\u001b[0m\u001b[0;34m,\u001b[0m\u001b[0;34m{\u001b[0m\u001b[0;34m'a'\u001b[0m\u001b[0;34m:\u001b[0m \u001b[0;34m'enter'\u001b[0m\u001b[0;34m,\u001b[0m \u001b[0;34m'b'\u001b[0m\u001b[0;34m:\u001b[0m \u001b[0;34m'enter'\u001b[0m\u001b[0;34m,\u001b[0m \u001b[0;34m'c'\u001b[0m\u001b[0;34m:\u001b[0m \u001b[0;34m'exit'\u001b[0m\u001b[0;34m}\u001b[0m\u001b[0;34m)\u001b[0m\u001b[0;34m\u001b[0m\u001b[0m\n\u001b[0;32m----> 2\u001b[0;31m \u001b[0mtrain\u001b[0m\u001b[0;34m(\u001b[0m\u001b[0;36m50000\u001b[0m\u001b[0;34m,\u001b[0m \u001b[0mcontroller\u001b[0m\u001b[0;34m)\u001b[0m\u001b[0;34m\u001b[0m\u001b[0m\n\u001b[0m",
      "\u001b[0;32m<ipython-input-1-7f5c3eb1a497>\u001b[0m in \u001b[0;36mtrain\u001b[0;34m(cycles, controller)\u001b[0m\n\u001b[1;32m     21\u001b[0m     \u001b[0;32mfor\u001b[0m \u001b[0mi\u001b[0m \u001b[0;32min\u001b[0m \u001b[0mrange\u001b[0m\u001b[0;34m(\u001b[0m\u001b[0;36m0\u001b[0m\u001b[0;34m,\u001b[0m\u001b[0mcycles\u001b[0m\u001b[0;34m)\u001b[0m\u001b[0;34m:\u001b[0m\u001b[0;34m\u001b[0m\u001b[0m\n\u001b[1;32m     22\u001b[0m         \u001b[0mprint\u001b[0m\u001b[0;34m(\u001b[0m\u001b[0;34m'================================================================================================='\u001b[0m\u001b[0;34m)\u001b[0m\u001b[0;34m\u001b[0m\u001b[0m\n\u001b[0;32m---> 23\u001b[0;31m         \u001b[0mscore_graphs\u001b[0m\u001b[0;34m(\u001b[0m\u001b[0mcontroller\u001b[0m\u001b[0;34m)\u001b[0m\u001b[0;34m\u001b[0m\u001b[0m\n\u001b[0m\u001b[1;32m     24\u001b[0m \u001b[0;34m\u001b[0m\u001b[0m\n\u001b[1;32m     25\u001b[0m         \u001b[0;32mif\u001b[0m \u001b[0mi\u001b[0m \u001b[0;34m%\u001b[0m \u001b[0;36m1000\u001b[0m\u001b[0;34m:\u001b[0m\u001b[0;34m\u001b[0m\u001b[0m\n",
      "\u001b[0;32m<ipython-input-1-7f5c3eb1a497>\u001b[0m in \u001b[0;36mscore_graphs\u001b[0;34m(controller)\u001b[0m\n\u001b[1;32m     13\u001b[0m             \u001b[0mcombined_score\u001b[0m \u001b[0;34m=\u001b[0m \u001b[0;36m0\u001b[0m\u001b[0;34m\u001b[0m\u001b[0m\n\u001b[1;32m     14\u001b[0m             \u001b[0;32mfor\u001b[0m \u001b[0mtrain\u001b[0m \u001b[0;32min\u001b[0m \u001b[0mtraining_list\u001b[0m\u001b[0;34m:\u001b[0m\u001b[0;34m\u001b[0m\u001b[0m\n\u001b[0;32m---> 15\u001b[0;31m                 \u001b[0mresult\u001b[0m \u001b[0;34m=\u001b[0m \u001b[0mcontroller\u001b[0m\u001b[0;34m.\u001b[0m\u001b[0mrun\u001b[0m\u001b[0;34m(\u001b[0m\u001b[0mtrain\u001b[0m\u001b[0;34m[\u001b[0m\u001b[0;36m0\u001b[0m\u001b[0;34m]\u001b[0m\u001b[0;34m)\u001b[0m\u001b[0;34m\u001b[0m\u001b[0m\n\u001b[0m\u001b[1;32m     16\u001b[0m                 \u001b[0mscore\u001b[0m \u001b[0;34m=\u001b[0m \u001b[0mint\u001b[0m\u001b[0;34m(\u001b[0m\u001b[0;34m(\u001b[0m\u001b[0;36m1\u001b[0m \u001b[0;34m-\u001b[0m \u001b[0;34m(\u001b[0m\u001b[0mtrain\u001b[0m\u001b[0;34m[\u001b[0m\u001b[0;36m1\u001b[0m\u001b[0;34m]\u001b[0m \u001b[0;34m-\u001b[0m \u001b[0mresult\u001b[0m\u001b[0;34m[\u001b[0m\u001b[0;36m0\u001b[0m\u001b[0;34m]\u001b[0m\u001b[0;34m[\u001b[0m\u001b[0;36m0\u001b[0m\u001b[0;34m]\u001b[0m\u001b[0;34m)\u001b[0m\u001b[0;34m)\u001b[0m \u001b[0;34m*\u001b[0m \u001b[0;36m100\u001b[0m\u001b[0;34m)\u001b[0m\u001b[0;34m\u001b[0m\u001b[0m\n\u001b[1;32m     17\u001b[0m                 \u001b[0mcombined_score\u001b[0m \u001b[0;34m+=\u001b[0m \u001b[0mscore\u001b[0m\u001b[0;34m\u001b[0m\u001b[0m\n",
      "\u001b[0;32m~/Programming/NEA/NEAT/core.py\u001b[0m in \u001b[0;36mrun\u001b[0;34m(self, inputs)\u001b[0m\n\u001b[1;32m    188\u001b[0m         \u001b[0mprint\u001b[0m\u001b[0;34m(\u001b[0m\u001b[0;34mf'current: {self.current}'\u001b[0m\u001b[0;34m)\u001b[0m\u001b[0;34m\u001b[0m\u001b[0m\n\u001b[1;32m    189\u001b[0m         \u001b[0mprint\u001b[0m\u001b[0;34m(\u001b[0m\u001b[0;34mf'genera: {self.graphs[self.current[0]]}'\u001b[0m\u001b[0;34m)\u001b[0m\u001b[0;34m\u001b[0m\u001b[0m\n\u001b[0;32m--> 190\u001b[0;31m         \u001b[0mprint\u001b[0m\u001b[0;34m(\u001b[0m\u001b[0;34mf'species: {self.graphs[self.current[0]][self.current[1]]}'\u001b[0m\u001b[0;34m)\u001b[0m\u001b[0;34m\u001b[0m\u001b[0m\n\u001b[0m\u001b[1;32m    191\u001b[0m         \u001b[0;32mreturn\u001b[0m \u001b[0mself\u001b[0m\u001b[0;34m.\u001b[0m\u001b[0mgraphs\u001b[0m\u001b[0;34m[\u001b[0m\u001b[0mself\u001b[0m\u001b[0;34m.\u001b[0m\u001b[0mcurrent\u001b[0m\u001b[0;34m[\u001b[0m\u001b[0;36m0\u001b[0m\u001b[0;34m]\u001b[0m\u001b[0;34m]\u001b[0m\u001b[0;34m[\u001b[0m\u001b[0mself\u001b[0m\u001b[0;34m.\u001b[0m\u001b[0mcurrent\u001b[0m\u001b[0;34m[\u001b[0m\u001b[0;36m1\u001b[0m\u001b[0;34m]\u001b[0m\u001b[0;34m]\u001b[0m\u001b[0;34m.\u001b[0m\u001b[0mrun\u001b[0m\u001b[0;34m(\u001b[0m\u001b[0minputs\u001b[0m\u001b[0;34m)\u001b[0m\u001b[0;34m\u001b[0m\u001b[0m\n\u001b[1;32m    192\u001b[0m \u001b[0;34m\u001b[0m\u001b[0m\n",
      "\u001b[0;31mTypeError\u001b[0m: 'NoneType' object is not subscriptable"
     ],
     "output_type": "error"
    }
   ],
   "source": [
    "controller = core.NeatController(1,10,{'a': 'enter', 'b': 'enter', 'c': 'exit'})\n",
    "train(50000, controller)"
   ]
  },
  {
   "cell_type": "markdown",
   "metadata": {},
   "source": [
    "# Result!"
   ]
  },
  {
   "cell_type": "code",
   "execution_count": null,
   "metadata": {},
   "outputs": [],
   "source": [
    "print(controller.graphs[1])"
   ]
  },
  {
   "cell_type": "code",
   "execution_count": null,
   "metadata": {},
   "outputs": [],
   "source": []
  }
 ],
 "metadata": {
  "kernelspec": {
   "display_name": "Python 3",
   "language": "python",
   "name": "python3"
  },
  "language_info": {
   "codemirror_mode": {
    "name": "ipython",
    "version": 3
   },
   "file_extension": ".py",
   "mimetype": "text/x-python",
   "name": "python",
   "nbconvert_exporter": "python",
   "pygments_lexer": "ipython3",
   "version": "3.6.4"
  }
 },
 "nbformat": 4,
 "nbformat_minor": 2
}
